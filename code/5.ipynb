{
 "cells": [
  {
   "cell_type": "markdown",
   "metadata": {},
   "source": [
    "### Linear regression from scratch using OLS"
   ]
  },
  {
   "cell_type": "code",
   "execution_count": 384,
   "metadata": {},
   "outputs": [],
   "source": [
    "import numpy as np \n",
    "import matplotlib.pyplot as plt \n",
    "import pandas as pd \n",
    "import copy\n",
    "import seaborn as sns\n",
    "from sklearn.model_selection import train_test_split"
   ]
  },
  {
   "cell_type": "code",
   "execution_count": 385,
   "metadata": {},
   "outputs": [],
   "source": [
    "train_data=pd.read_csv('/Users/pushpakumar/Downloads/cs-215-assignment-3-multiple-variate-regression/train.csv')\n",
    "# test_data=pd.read_csv('/Users/pushpakumar/Downloads/cs-215-assignment-3-multiple-variate-regression/test.csv')"
   ]
  },
  {
   "cell_type": "code",
   "execution_count": 386,
   "metadata": {},
   "outputs": [],
   "source": [
    "train_corr=train_data.corr()\n",
    "target = 'yield'\n",
    "correlation_with_target = train_corr[target]\n",
    "low_corr_threshold = 0.2\n",
    "low_corr_features = correlation_with_target[abs(correlation_with_target) < low_corr_threshold].index.tolist()\n",
    "train_data = train_data.drop(columns=low_corr_features)\n",
    "x= train_data.drop(columns='yield').values\n",
    "y = train_data['yield'].values\n",
    "x_train, x_test, y_train, y_test = train_test_split(x, y, test_size=0.2, random_state=0)"
   ]
  },
  {
   "cell_type": "code",
   "execution_count": 387,
   "metadata": {},
   "outputs": [],
   "source": [
    "# Visualize the data using scatter plot and histogram\n",
    "# sns.set_palette('colorblind')\n",
    "# sns.pairplot(data=train_data)"
   ]
  },
  {
   "cell_type": "code",
   "execution_count": 388,
   "metadata": {},
   "outputs": [],
   "source": [
    "### note input x and y should be panda df\n",
    "\n",
    "class Multiple_linear_regression():\n",
    "    def __init__(self):\n",
    "        self.coefficients=None\n",
    "        self.intercept=None\n",
    "        \n",
    "    def fit(self,x,y):\n",
    "        x=self.transform_x(x)\n",
    "        y=self.transform_y(y)\n",
    "        betas=self.estimate_coefficients(x,y)\n",
    "        self.intercept=betas[0]\n",
    "        self.coefficients=betas[1:]\n",
    "\n",
    "            \n",
    "    def predict(self, x):\n",
    "        ## y = b_0 + b_1*x + ... + b_i*x_i\n",
    "        prediction = np.dot(x, self.coefficients) + self.intercept\n",
    "        return prediction\n",
    "    \n",
    "    def r2_score(self, y_true, y_pred):\n",
    "        '''\n",
    "            r2 = 1 - (rss/tss)\n",
    "            rss = sum_{i=0}^{n} (y_i - y_hat)^2\n",
    "            tss = sum_{i=0}^{n} (y_i - y_bar)^2\n",
    "        '''\n",
    "        y_values=y_true\n",
    "        y_avg=np.mean(y_values)\n",
    "        \n",
    "        residual_sum_of_squares=0\n",
    "        total_sum_of_squares=0\n",
    "        for i in range(len(y_values)):\n",
    "            residual_sum_of_squares+=(y_values[i]-y_pred[i])**2\n",
    "            total_sum_of_squares+=(y_values[i]-y_avg)**2\n",
    "            \n",
    "        return 1-(residual_sum_of_squares/total_sum_of_squares)\n",
    "    \n",
    "    def transform_x(self, x):\n",
    "        return np.hstack((np.ones((x.shape[0], 1)), x))\n",
    "    def transform_y(self,y):\n",
    "        return y\n",
    "    def estimate_coefficients(self,x,y):\n",
    "        # (x'x)^-1 x'y \n",
    "        xT=x.transpose()\n",
    "        inversed=np.linalg.inv(xT.dot(x))\n",
    "        coefficients=inversed.dot(xT).dot(y) \n",
    "        return coefficients"
   ]
  },
  {
   "cell_type": "code",
   "execution_count": 389,
   "metadata": {},
   "outputs": [],
   "source": [
    "class Nadaraya_watson_kernel_guassian():\n",
    "    def __init__(self,bandwidth=1.0):\n",
    "        self.bandwidth=bandwidth\n",
    "        self.x_data=None\n",
    "        self.y_data=None\n",
    "    def fit(self,x,y):\n",
    "        self.x_data=np.array(x)\n",
    "        self.y_data=np.array(y)\n",
    "    def gaussian_kernel(self,x):\n",
    "        ## (1/2*pi) e^{-x^2 / 2}\n",
    "        exponent=np.exp(-0.5 * (x**2))\n",
    "        result=exponent/np.sqrt(2*np.pi)\n",
    "        return result\n",
    "    \n",
    "    def predict(self, x):\n",
    "        # n,m=x.shape\n",
    "        temp = (x - self.x_data) / self.bandwidth\n",
    "        distance_from_origin=np.linalg.norm(temp,axis=1)\n",
    "        ker = self.gaussian_kernel(distance_from_origin)\n",
    "        num = np.sum(ker * self.y_data)\n",
    "        den = np.sum(ker)\n",
    "        return num / den           \n",
    "    \n",
    "    def risk_function(self, x, y):\n",
    "        # x is prediction y is actual \n",
    "        return (y - x)**2"
   ]
  },
  {
   "cell_type": "code",
   "execution_count": 390,
   "metadata": {},
   "outputs": [],
   "source": [
    "def mean_absolute_error(x,y):\n",
    "    n=len(x)\n",
    "    error=0\n",
    "    for i in range(n):\n",
    "        error+=abs(x[i]-y[i])\n",
    "    return error/n"
   ]
  },
  {
   "cell_type": "code",
   "execution_count": 391,
   "metadata": {},
   "outputs": [
    {
     "name": "stdout",
     "output_type": "stream",
     "text": [
      "0.9039003705337196\n"
     ]
    }
   ],
   "source": [
    "mlr=Multiple_linear_regression()\n",
    "mlr.fit(x_train,y_train)\n",
    "prediction_mlr=mlr.predict(x_train)\n",
    "score=mlr.r2_score(y_train,prediction_mlr)\n",
    "print(score)"
   ]
  },
  {
   "cell_type": "code",
   "execution_count": 392,
   "metadata": {},
   "outputs": [
    {
     "name": "stdout",
     "output_type": "stream",
     "text": [
      "273.6036825812598\n"
     ]
    }
   ],
   "source": [
    "print(mean_absolute_error(prediction_mlr,y_train))\n"
   ]
  },
  {
   "cell_type": "code",
   "execution_count": 393,
   "metadata": {},
   "outputs": [],
   "source": [
    "# print(h)"
   ]
  },
  {
   "cell_type": "code",
   "execution_count": 394,
   "metadata": {},
   "outputs": [],
   "source": [
    "# x_train_h, x_test_h, y_train_h, y_test_h = train_test_split(x_train, y_train, test_size=0.1, random_state=0)"
   ]
  },
  {
   "cell_type": "code",
   "execution_count": 395,
   "metadata": {},
   "outputs": [],
   "source": [
    "# h_x=np.linspace(0,3,200)\n",
    "# risk=[]\n",
    "# for i in h_x:\n",
    "#     mlr2=Nadaraya_watson_kernel_guassian(i)\n",
    "#     mlr2.fit(x_train_h,y_train_h)\n",
    "#     risk_temp=0\n",
    "#     for j in range(len(x_test_h)):\n",
    "#         temp=mlr2.predict(x_test_h[j])\n",
    "#         risk_temp+=mlr2.risk_function(temp,y_test_h[j])\n",
    "#     risk.append(risk_temp/len(x_train_h))\n",
    "# plt.plot(h_x,risk)"
   ]
  },
  {
   "cell_type": "code",
   "execution_count": 396,
   "metadata": {},
   "outputs": [],
   "source": [
    "# risk=np.array(risk)\n",
    "# risk_witout_nan=risk[~np.isnan(risk)]\n",
    "# print(risk_witout_nan.min())\n",
    "# index = np.where(risk== risk_witout_nan.min())[0][0]\n",
    "# print(index)\n",
    "# h=h_x[index]\n",
    "# print(h)"
   ]
  },
  {
   "cell_type": "code",
   "execution_count": null,
   "metadata": {},
   "outputs": [],
   "source": []
  },
  {
   "cell_type": "code",
   "execution_count": 397,
   "metadata": {},
   "outputs": [],
   "source": [
    "# kr=Nadaraya_watson_kernel_guassian(h)\n",
    "# kr.fit(x_train_h,y_train_h)\n",
    "# prediction_kr_h=[]\n",
    "# for i in range(len(x_test_h)):\n",
    "#     temp=kr.predict(x_test_h[i])\n",
    "#     prediction_kr_h.append(temp)\n",
    "    \n",
    "# print(prediction_kr_h[0:15])\n",
    "\n",
    "# print(y_train_h[0:15])"
   ]
  },
  {
   "cell_type": "code",
   "execution_count": 398,
   "metadata": {},
   "outputs": [],
   "source": [
    "# plt.scatter(y_test_h,prediction_kr_h)\n",
    "# plt.plot(y_test,y_test,color='red')\n",
    "# plt.legend()"
   ]
  },
  {
   "cell_type": "code",
   "execution_count": 399,
   "metadata": {},
   "outputs": [],
   "source": [
    "# np.corrcoef(y_test_h,prediction_kr_h)"
   ]
  },
  {
   "cell_type": "code",
   "execution_count": 400,
   "metadata": {},
   "outputs": [
    {
     "name": "stdout",
     "output_type": "stream",
     "text": [
      "[6281.3504758268255, 6166.060967587263, 4437.9792864478795, 3981.2659748168808, 5339.801637289458, 8176.205745072179, 5533.258636582647, 6388.119713837324, 7312.072359168474, 4452.053807260963, 6335.062014292895, 6006.74833688852, 5400.626323583488, 6893.528182097134, 5408.006470104926]\n",
      "[8969.40184 5966.71128 3385.148   4489.22384 5637.9843  8157.23694\n",
      " 5750.88107 5747.56017 7122.49056 4045.47966 6754.44894 6251.61184\n",
      " 5063.85109 7041.38018 5920.48718]\n"
     ]
    }
   ],
   "source": [
    "kr=Nadaraya_watson_kernel_guassian(0.3015)\n",
    "kr.fit(x_train,y_train)\n",
    "prediction_kr=[]\n",
    "for i in range(len(x_train)):\n",
    "    temp=kr.predict(x_train[i])\n",
    "    prediction_kr.append(temp)\n",
    "    \n",
    "print(prediction_kr[0:15])\n",
    "\n",
    "print(y_train[0:15])"
   ]
  },
  {
   "cell_type": "code",
   "execution_count": 401,
   "metadata": {},
   "outputs": [
    {
     "name": "stdout",
     "output_type": "stream",
     "text": [
      "326.3696240570526\n"
     ]
    }
   ],
   "source": [
    "print(mean_absolute_error(y_train,prediction_kr))"
   ]
  },
  {
   "cell_type": "code",
   "execution_count": 402,
   "metadata": {},
   "outputs": [
    {
     "name": "stdout",
     "output_type": "stream",
     "text": [
      "[6416.93815453 6281.35047583]\n",
      "(12000, 2)\n",
      "\n"
     ]
    }
   ],
   "source": [
    "prediction_mlr=np.array(prediction_mlr)\n",
    "prediction_kr=np.array(prediction_kr)\n",
    "x_train_final = np.column_stack((prediction_mlr, prediction_kr))\n",
    "y_train_final=y_train\n",
    "print(x_train_final[0])\n",
    "print((x_train_final.shape))\n",
    "print()"
   ]
  },
  {
   "cell_type": "code",
   "execution_count": 403,
   "metadata": {},
   "outputs": [],
   "source": [
    "weight_linear=1/273.6036825812598\n",
    "weight_kernel=1/326.2866463929124\n",
    "total=weight_linear+weight_kernel\n",
    "weight_linear/=total\n",
    "weight_kernel/=total\n",
    "yy=(weight_linear*prediction_mlr)+(weight_kernel*prediction_kr)"
   ]
  },
  {
   "cell_type": "code",
   "execution_count": 404,
   "metadata": {},
   "outputs": [
    {
     "name": "stdout",
     "output_type": "stream",
     "text": [
      "283.0236764706015\n"
     ]
    }
   ],
   "source": [
    "print(mean_absolute_error(y_train_final,yy))"
   ]
  },
  {
   "cell_type": "code",
   "execution_count": 416,
   "metadata": {},
   "outputs": [
    {
     "name": "stdout",
     "output_type": "stream",
     "text": [
      "[6416.93815453 6281.35047583]\n",
      "(12000, 2)\n",
      "\n"
     ]
    }
   ],
   "source": [
    "prediction_mlr_test=mlr.predict(x_test)\n",
    "prediction_kr_test=[]\n",
    "for i in range(len(x_test)):\n",
    "    temp=kr.predict(x_test[i])\n",
    "    prediction_kr_test.append(temp)\n",
    "prediction_mlr_test=np.array(prediction_mlr_test)\n",
    "prediction_kr_test=np.array(prediction_kr_test)\n",
    "x_train_final = np.column_stack((prediction_mlr, prediction_kr))\n",
    "y_train_final=y_test\n",
    "print(x_train_final[0])\n",
    "print((x_train_final.shape))\n",
    "print()"
   ]
  },
  {
   "cell_type": "code",
   "execution_count": 419,
   "metadata": {},
   "outputs": [],
   "source": [
    "weight_linear=1/273.6036825812598\n",
    "weight_kernel=1/326.2866463929124\n",
    "total=weight_linear+weight_kernel\n",
    "weight_linear/=total\n",
    "weight_kernel/=total\n",
    "yy=(weight_linear*prediction_mlr_test)+(weight_kernel*prediction_kr_test)"
   ]
  },
  {
   "cell_type": "code",
   "execution_count": 420,
   "metadata": {},
   "outputs": [
    {
     "name": "stdout",
     "output_type": "stream",
     "text": [
      "276.3110084825565\n"
     ]
    }
   ],
   "source": [
    "print(mean_absolute_error(y_train_final,yy))"
   ]
  },
  {
   "cell_type": "markdown",
   "metadata": {},
   "source": []
  },
  {
   "cell_type": "markdown",
   "metadata": {},
   "source": []
  },
  {
   "cell_type": "markdown",
   "metadata": {},
   "source": []
  },
  {
   "cell_type": "markdown",
   "metadata": {},
   "source": []
  },
  {
   "cell_type": "markdown",
   "metadata": {},
   "source": []
  },
  {
   "cell_type": "markdown",
   "metadata": {},
   "source": []
  },
  {
   "cell_type": "markdown",
   "metadata": {},
   "source": []
  },
  {
   "cell_type": "markdown",
   "metadata": {},
   "source": []
  },
  {
   "cell_type": "markdown",
   "metadata": {},
   "source": []
  },
  {
   "cell_type": "markdown",
   "metadata": {},
   "source": []
  },
  {
   "cell_type": "markdown",
   "metadata": {},
   "source": []
  },
  {
   "cell_type": "markdown",
   "metadata": {},
   "source": []
  },
  {
   "cell_type": "markdown",
   "metadata": {},
   "source": []
  },
  {
   "cell_type": "markdown",
   "metadata": {},
   "source": []
  },
  {
   "cell_type": "markdown",
   "metadata": {},
   "source": []
  },
  {
   "cell_type": "code",
   "execution_count": 405,
   "metadata": {},
   "outputs": [],
   "source": [
    "# x_train_final_h, x_test_final_h, y_train_final_h, y_test_final_h = train_test_split(x_train_final, y_train_final, test_size=0.1, random_state=0)"
   ]
  },
  {
   "cell_type": "code",
   "execution_count": 406,
   "metadata": {},
   "outputs": [],
   "source": [
    "# print(y_train_final_h[0:5])\n",
    "# print(x_train_final_h[0:5])"
   ]
  },
  {
   "cell_type": "code",
   "execution_count": 407,
   "metadata": {},
   "outputs": [],
   "source": [
    "# h_x=np.linspace(0,200,200)\n",
    "# risk=[]\n",
    "# for i in h_x:\n",
    "#     mlr2=Nadaraya_watson_kernel_guassian(i)\n",
    "#     mlr2.fit(x_train_final_h,y_train_final_h)\n",
    "#     risk_temp=0\n",
    "#     for j in range(len(x_test_final_h)):\n",
    "#         temp=mlr2.predict(x_test_final_h[j])\n",
    "#         risk_temp+=mlr2.risk_function(temp,y_test_final_h[j])\n",
    "#     risk.append(risk_temp/len(x_train_final_h))\n",
    "# plt.plot(h_x,risk)\n"
   ]
  },
  {
   "cell_type": "code",
   "execution_count": 408,
   "metadata": {},
   "outputs": [],
   "source": [
    "# print(risk)"
   ]
  },
  {
   "cell_type": "code",
   "execution_count": 409,
   "metadata": {},
   "outputs": [],
   "source": [
    "# risk=np.array(risk)\n",
    "# risk_witout_nan=risk[~np.isnan(risk)]\n",
    "# print(risk_witout_nan.min())\n",
    "# index = np.where(risk== risk_witout_nan.min())[0][0]\n",
    "# print(index)\n",
    "# h=h_x[index]\n",
    "# print(h)"
   ]
  },
  {
   "cell_type": "code",
   "execution_count": 410,
   "metadata": {},
   "outputs": [],
   "source": [
    "# mlr2=Multiple_linear_regression()\n",
    "# mlr2.fit(x_train_final,y_train_final)\n",
    "# prediction_mlr2=[]\n",
    "# for i in x_train_final:\n",
    "#     temp=mlr2.predict(i)\n",
    "#     prediction_mlr2.append(temp)\n",
    "# # score=mlr.r2_score(y_test,prediction_mlr)\n",
    "# print(prediction_mlr2[0:5])\n",
    "# print(y_train_final[0:5])"
   ]
  },
  {
   "cell_type": "code",
   "execution_count": null,
   "metadata": {},
   "outputs": [],
   "source": []
  },
  {
   "cell_type": "code",
   "execution_count": 411,
   "metadata": {},
   "outputs": [],
   "source": [
    "# plt.scatter(prediction_mlr2,y_train_final)"
   ]
  },
  {
   "cell_type": "code",
   "execution_count": 412,
   "metadata": {},
   "outputs": [],
   "source": [
    "# np.corrcoef(prediction_mlr2,y_train_final)"
   ]
  },
  {
   "cell_type": "code",
   "execution_count": 413,
   "metadata": {},
   "outputs": [],
   "source": [
    "# print(mean_absolute_error(y_train_final_h,prediction_mlr2))"
   ]
  },
  {
   "cell_type": "code",
   "execution_count": null,
   "metadata": {},
   "outputs": [],
   "source": []
  },
  {
   "cell_type": "code",
   "execution_count": null,
   "metadata": {},
   "outputs": [],
   "source": []
  }
 ],
 "metadata": {
  "kernelspec": {
   "display_name": "Python 3 (ipykernel)",
   "language": "python",
   "name": "python3"
  },
  "language_info": {
   "codemirror_mode": {
    "name": "ipython",
    "version": 3
   },
   "file_extension": ".py",
   "mimetype": "text/x-python",
   "name": "python",
   "nbconvert_exporter": "python",
   "pygments_lexer": "ipython3",
   "version": "3.12.2"
  }
 },
 "nbformat": 4,
 "nbformat_minor": 4
}
